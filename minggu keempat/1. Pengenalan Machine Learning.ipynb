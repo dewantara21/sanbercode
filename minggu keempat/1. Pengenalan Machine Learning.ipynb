{
 "cells": [
  {
   "cell_type": "markdown",
   "metadata": {
    "colab_type": "text",
    "id": "47NOwo3UNcRl"
   },
   "source": [
    "<h1>Quiz 1 : Pemahaman Machine Learning</h1>\n",
    "\n",
    "Jawab/Kerjakan pertanyaan/perintah di bawah ini dengan bahasa kalian sendiri :\n",
    "\n",
    "- Apa itu machine learning?\n",
    "- Apa itu data feature dan data target\n",
    "- Apa Perbedaan Supervised Learning, dan Unsupervised Learning\n",
    "- Apa Jenis2 yang ada di dalam Supervised Learning? Jelaskan Perbedaannya!\n",
    "- Apa perbedaan Hyperparameter dan Parameter\n",
    "- Sebutkan step2 dalam mengapplikasikan algoritma apapun dalam machine learning"
   ]
  },
  {
   "cell_type": "markdown",
   "metadata": {
    "colab_type": "text",
    "id": "58I1LJFoNcRv"
   },
   "source": [
    "machine learning adalah cabang ilmu kecerdasan buatan, khususnya yang mempelajari tentang bagaimana mesin mampu belajar dari data untuk meningkatkan kecerdasannya. Didalam machine learning biasanya suatu data biasanya dipisah menjadi data feature dan data target.\n",
    "\n",
    "data feature sama seperti predictor yang artinya adalah variabel yang berguna untuk memprediksi suatu kejadian(target)\n",
    "\n",
    "data target sama seperti data label yang artinya adalah hasil dari prediksi.\n",
    "\n",
    "Ada 2 jenis machine learning yang biasa digunakan yakni supervised learning dan unsupervised learning.\n",
    "\n",
    "supervised learning adalah pembelajaran dimana mesin dilatih menggunakan data yang diberi label dengan baik, yang berarti beberapa data sudah ditandai dengan benar. Label adalah tag atau pengenal dari sebuah data. Misalnya sebuah buah memiliki atribut berwarna hijau, berat lebih dari 500 gram, kulitnya keras, berduri, memiliki bau yang menyengat, dan daging buahnya manis. Buah yang memiliki karakteristik seperti yang disebutkan dikenali sebagai durian, maka label dari atribut tersebut adalah durian. Klasifikasi email spam adalah contoh dari supervised learning.\n",
    "\n",
    "unsupervised learning adalah mesin dilatih menggunakan informasi yang tidak diklasifikasikan atau tidak diberi label dan memungkinkan algoritma untuk bertindak pada informasi itu tanpa petunjuk. Disini tugas mesin adalah untuk mengelompokkan informasi yang tidak disortir menurut persamaan, pola, perbedaan tanpa pelatihan data sebelumnya. Contoh kasus unsupervised adalah dari data 100 pengunjung sebuah website, model akan belajar sendiri untuk mengelompokkan pengunjung. Mungkin berdasarkan waktu kunjungan, lama kunjungan, jumlah klik, dan sebagainya.\n",
    "\n",
    "Jenis-jenis supervised learning :\n",
    "1. klasifikasi output dari prediksinya adalah berupa class label. \n",
    "2. regresi output dari prediksinya adalah quantity yang continous\n",
    "\n",
    "\n",
    "hyperparameter adalah bagian dari parameter. Bedanya adalah \n",
    "1. didefinisikan di awal pembuatan objek model\n",
    "2. tidak ada sangkut pautnya dengan model\n",
    "\n",
    "parameter\n",
    "1. parameter itu dihasilkan di akhir\n",
    "2. terdapat sangkut pautnya dengan model\n",
    "\n",
    "step-step mengaplikasikan machine learning :\n",
    "1. pilih model atau algorithm apa yang akan kita gunakan\n",
    "2. Pilih hyperparameter ketika membuat objek model\n",
    "3. Pisahkan antara data feature dan data target dan sklearn itu menerima input berupa matriks bukan berupa vektor\n",
    "4. Perintahkan model untuk mempelajari data dengan menggunakan metode fit\n",
    "5. Aplikasikan model kedalam test data dengan menggunakan metode .predict() untuk supervised learning atau .transform() dan .predict() untuk unsupervised learning\n",
    "\n"
   ]
  },
  {
   "cell_type": "markdown",
   "metadata": {
    "colab_type": "text",
    "id": "jI50HJDgNcRz"
   },
   "source": [
    "<h1>Quiz 2 : Pemahaman Machine Learning</h1>\n",
    "\n",
    "Pelajarilah secara garis besar suatu model/algoritma machine learning, kemudian applikasikan untuk membuat model bagi data (variable x, y) di bawah ini. kemudian buatlah prediksi terhadap data training dan data baru di interval 20-30.\n",
    "\n",
    "- Plot data asli, data hasil prediksi terhadap data training, data hasil prediksi terhadap data baru\n",
    "- Tunjukan beberapa parameter yang dimiliki model yang telah kalian buat"
   ]
  },
  {
   "cell_type": "code",
   "execution_count": 1,
   "metadata": {
    "colab": {},
    "colab_type": "code",
    "id": "QotZc3UbNcR9",
    "outputId": "eac5b4f0-6932-446a-ebb2-5eaefadd583b"
   },
   "outputs": [
    {
     "data": {
      "image/png": "[encoded data removed]",
      "text/plain": [
       "<Figure size 864x432 with 1 Axes>"
      ]
     },
     "metadata": {
      "needs_background": "light"
     },
     "output_type": "display_data"
    }
   ],
   "source": [
    "import matplotlib.pyplot as plt\n",
    "import numpy as np\n",
    "\n",
    "\n",
    "rng = np.random.RandomState(42)\n",
    "x = 20 * rng.rand(50)\n",
    "y = x**2 + 2 * x + - 1 + rng.randn(50)\n",
    "\n",
    "# data yang akan di prediksi\n",
    "x_new = np.arange(20, 30, 0.5)\n",
    "\n",
    "\n",
    "fig, ax = plt.subplots(figsize=(12, 6))\n",
    "ax.scatter(x, y)\n",
    "ax.set_xlabel('X-Value')\n",
    "ax.set_ylabel('Y-Value')\n",
    "plt.show()"
   ]
  },
  {
   "cell_type": "markdown",
   "metadata": {
    "colab_type": "text",
    "id": "3wrMfFusNcS6"
   },
   "source": [
    "Contoh Jawaban Hasil Pembuatan Model dengan Algoritma DecisionTreeRegressor (Jawaban tidak haru sama) :\n",
    "\n",
    "![image.png](attachment:image.png)"
   ]
  },
  {
   "cell_type": "markdown",
   "metadata": {
    "colab_type": "text",
    "id": "4Vs7RhxRNcS_"
   },
   "source": [
    "Contoh Jawaban Parameters (Tidak Harus Sama) :\n",
    "\n",
    "- Feature Importance : array([1.])\n",
    "- n features : 1\n",
    "  \n",
    "Tree Graph :\n",
    "\n",
    "![image.png](attachment:image.png)"
   ]
  },
  {
   "cell_type": "code",
   "execution_count": 2,
   "metadata": {},
   "outputs": [],
   "source": [
    "# import model\n",
    "from sklearn.linear_model import LinearRegression\n",
    "\n",
    "# membuat model \n",
    "linreg = LinearRegression(fit_intercept=True)"
   ]
  },
  {
   "cell_type": "code",
   "execution_count": 3,
   "metadata": {},
   "outputs": [
    {
     "data": {
      "text/plain": [
       "(50,)"
      ]
     },
     "execution_count": 3,
     "metadata": {},
     "output_type": "execute_result"
    }
   ],
   "source": [
    "# mengecek ukuran variabel y\n",
    "y.shape"
   ]
  },
  {
   "cell_type": "code",
   "execution_count": 4,
   "metadata": {},
   "outputs": [
    {
     "data": {
      "text/plain": [
       "(50,)"
      ]
     },
     "execution_count": 4,
     "metadata": {},
     "output_type": "execute_result"
    }
   ],
   "source": [
    "# mengecek ukuran variabel x\n",
    "x.shape"
   ]
  },
  {
   "cell_type": "code",
   "execution_count": 5,
   "metadata": {},
   "outputs": [
    {
     "data": {
      "text/plain": [
       "LinearRegression(copy_X=True, fit_intercept=True, n_jobs=None, normalize=False)"
      ]
     },
     "execution_count": 5,
     "metadata": {},
     "output_type": "execute_result"
    }
   ],
   "source": [
    "# karena variabel x masih dalam bentuk vektor maka variabel x harus diubah ke dalam bentuk matriks\n",
    "x_matriks = x[:, np.newaxis]\n",
    "\n",
    "# melakukan fit\n",
    "linreg.fit(x_matriks, y)\n"
   ]
  },
  {
   "cell_type": "code",
   "execution_count": 6,
   "metadata": {},
   "outputs": [],
   "source": [
    "# merubah variabel x_new kedalam bentuk matriks\n",
    "x_new = x_new[:, np.newaxis]"
   ]
  },
  {
   "cell_type": "code",
   "execution_count": 7,
   "metadata": {},
   "outputs": [
    {
     "data": {
      "text/plain": [
       "(20, 1)"
      ]
     },
     "execution_count": 7,
     "metadata": {},
     "output_type": "execute_result"
    }
   ],
   "source": [
    "# melihat ukuran x_new\n",
    "x_new.shape"
   ]
  },
  {
   "cell_type": "code",
   "execution_count": 8,
   "metadata": {},
   "outputs": [],
   "source": [
    "# melakukan prediksi model terhadap x_new\n",
    "y_new = linreg.predict(x_new)"
   ]
  },
  {
   "cell_type": "code",
   "execution_count": 9,
   "metadata": {},
   "outputs": [
    {
     "data": {
      "text/plain": [
       "array([367.2976605 , 378.04576111, 388.79386171, 399.54196232,\n",
       "       410.29006292, 421.03816352, 431.78626413, 442.53436473,\n",
       "       453.28246534, 464.03056594, 474.77866655, 485.52676715,\n",
       "       496.27486775, 507.02296836, 517.77106896, 528.51916957,\n",
       "       539.26727017, 550.01537077, 560.76347138, 571.51157198])"
      ]
     },
     "execution_count": 9,
     "metadata": {},
     "output_type": "execute_result"
    }
   ],
   "source": [
    "y_new"
   ]
  },
  {
   "cell_type": "code",
   "execution_count": 10,
   "metadata": {},
   "outputs": [],
   "source": [
    "# melakukan prediksi model terhadap data awal\n",
    "y_train = linreg.predict(x_matriks)"
   ]
  },
  {
   "cell_type": "code",
   "execution_count": 11,
   "metadata": {},
   "outputs": [
    {
     "data": {
      "text/plain": [
       "array([21.49620121])"
      ]
     },
     "execution_count": 11,
     "metadata": {},
     "output_type": "execute_result"
    }
   ],
   "source": [
    "# melihat hasil parameter coef\n",
    "linreg.coef_"
   ]
  },
  {
   "cell_type": "code",
   "execution_count": 12,
   "metadata": {},
   "outputs": [
    {
     "data": {
      "text/plain": [
       "-62.62636366159916"
      ]
     },
     "execution_count": 12,
     "metadata": {},
     "output_type": "execute_result"
    }
   ],
   "source": [
    "# melihat hasil parameter intercept\n",
    "linreg.intercept_"
   ]
  },
  {
   "cell_type": "code",
   "execution_count": 13,
   "metadata": {},
   "outputs": [
    {
     "data": {
      "image/png": "[encoded data removed]",
      "text/plain": [
       "<Figure size 432x288 with 1 Axes>"
      ]
     },
     "metadata": {
      "needs_background": "light"
     },
     "output_type": "display_data"
    }
   ],
   "source": [
    "# melakukan plotting untuk melihat grafik antara data asli dan prediksi data \n",
    "\n",
    "\n",
    "plt.scatter(x,y, label='Data Asli')\n",
    "plt.scatter(x,y_train, label ='Prediksi data Training')\n",
    "plt.plot(x_new,y_new, label='Prediksi Data Baru', color='g')\n",
    "plt.legend()\n",
    "plt.show()"
   ]
  },
  {
   "cell_type": "markdown",
   "metadata": {},
   "source": [
    "**Bandingkan model Linear Regression diatas dengan decision Tree Regressor dibawah ini**"
   ]
  },
  {
   "cell_type": "code",
   "execution_count": 14,
   "metadata": {},
   "outputs": [],
   "source": [
    "# import model\n",
    "from sklearn.tree import DecisionTreeRegressor"
   ]
  },
  {
   "cell_type": "code",
   "execution_count": 15,
   "metadata": {},
   "outputs": [],
   "source": [
    "# membuat model\n",
    "dtregres = DecisionTreeRegressor(max_depth = 6, min_samples_leaf=0.1)"
   ]
  },
  {
   "cell_type": "code",
   "execution_count": 16,
   "metadata": {},
   "outputs": [
    {
     "data": {
      "text/plain": [
       "(50, 1)"
      ]
     },
     "execution_count": 16,
     "metadata": {},
     "output_type": "execute_result"
    }
   ],
   "source": [
    "x_matriks.shape"
   ]
  },
  {
   "cell_type": "code",
   "execution_count": 17,
   "metadata": {},
   "outputs": [
    {
     "data": {
      "text/plain": [
       "(50,)"
      ]
     },
     "execution_count": 17,
     "metadata": {},
     "output_type": "execute_result"
    }
   ],
   "source": [
    "y.shape"
   ]
  },
  {
   "cell_type": "code",
   "execution_count": 18,
   "metadata": {},
   "outputs": [
    {
     "data": {
      "text/plain": [
       "DecisionTreeRegressor(ccp_alpha=0.0, criterion='mse', max_depth=6,\n",
       "                      max_features=None, max_leaf_nodes=None,\n",
       "                      min_impurity_decrease=0.0, min_impurity_split=None,\n",
       "                      min_samples_leaf=0.1, min_samples_split=2,\n",
       "                      min_weight_fraction_leaf=0.0, presort='deprecated',\n",
       "                      random_state=None, splitter='best')"
      ]
     },
     "execution_count": 18,
     "metadata": {},
     "output_type": "execute_result"
    }
   ],
   "source": [
    "# melakukan proses fit model\n",
    "dtregres.fit(x_matriks, y)"
   ]
  },
  {
   "cell_type": "code",
   "execution_count": 19,
   "metadata": {},
   "outputs": [],
   "source": [
    "# melakukan prediksi terhadap x_new\n",
    "y_new1 = dtregres.predict(x_new)"
   ]
  },
  {
   "cell_type": "code",
   "execution_count": 20,
   "metadata": {},
   "outputs": [
    {
     "data": {
      "text/plain": [
       "array([386.58502854, 386.58502854, 386.58502854, 386.58502854,\n",
       "       386.58502854, 386.58502854, 386.58502854, 386.58502854,\n",
       "       386.58502854, 386.58502854, 386.58502854, 386.58502854,\n",
       "       386.58502854, 386.58502854, 386.58502854, 386.58502854,\n",
       "       386.58502854, 386.58502854, 386.58502854, 386.58502854])"
      ]
     },
     "execution_count": 20,
     "metadata": {},
     "output_type": "execute_result"
    }
   ],
   "source": [
    "y_new1"
   ]
  },
  {
   "cell_type": "code",
   "execution_count": 21,
   "metadata": {},
   "outputs": [],
   "source": [
    "y_train1 = dtregres.predict(x_matriks)"
   ]
  },
  {
   "cell_type": "code",
   "execution_count": 22,
   "metadata": {},
   "outputs": [
    {
     "data": {
      "text/plain": [
       "1"
      ]
     },
     "execution_count": 22,
     "metadata": {},
     "output_type": "execute_result"
    }
   ],
   "source": [
    "dtregres.n_features_"
   ]
  },
  {
   "cell_type": "code",
   "execution_count": 23,
   "metadata": {},
   "outputs": [
    {
     "data": {
      "text/plain": [
       "1"
      ]
     },
     "execution_count": 23,
     "metadata": {},
     "output_type": "execute_result"
    }
   ],
   "source": [
    "dtregres.n_outputs_"
   ]
  },
  {
   "cell_type": "code",
   "execution_count": 24,
   "metadata": {},
   "outputs": [
    {
     "data": {
      "text/plain": [
       "array([1.])"
      ]
     },
     "execution_count": 24,
     "metadata": {},
     "output_type": "execute_result"
    }
   ],
   "source": [
    "dtregres.feature_importances_"
   ]
  },
  {
   "cell_type": "code",
   "execution_count": 27,
   "metadata": {},
   "outputs": [
    {
     "data": {
      "image/png": "[encoded data removed]",
      "text/plain": [
       "<Figure size 864x576 with 1 Axes>"
      ]
     },
     "metadata": {
      "needs_background": "light"
     },
     "output_type": "display_data"
    }
   ],
   "source": [
    "plt.subplots(figsize=(12,8))\n",
    "plt.scatter(x,y, label='Data Asli')\n",
    "plt.scatter(x,y_train1, label ='Prediksi data Training')\n",
    "plt.plot(x_new,y_new1, label='Prediksi Data Baru', color = 'g')\n",
    "plt.legend()\n",
    "plt.show()"
   ]
  },
  {
   "cell_type": "code",
   "execution_count": 26,
   "metadata": {
    "scrolled": true
   },
   "outputs": [
    {
     "data": {
      "text/plain": [
       "[Text(418.50000000000006, 391.392, 'X[0] <= 12.744\\nmse = 15993.388\\nsamples = 50\\nvalue = 129.087'),\n",
       " Text(279.0, 304.416, 'X[0] <= 8.065\\nmse = 3370.867\\nsamples = 37\\nvalue = 64.087'),\n",
       " Text(167.4, 217.44, 'X[0] <= 4.711\\nmse = 424.568\\nsamples = 24\\nvalue = 25.148'),\n",
       " Text(111.60000000000001, 130.464, 'X[0] <= 2.615\\nmse = 72.147\\nsamples = 16\\nvalue = 12.186'),\n",
       " Text(55.800000000000004, 43.488, 'mse = 9.288\\nsamples = 7\\nvalue = 3.605'),\n",
       " Text(167.4, 43.488, 'mse = 19.206\\nsamples = 9\\nvalue = 18.861'),\n",
       " Text(223.20000000000002, 130.464, 'mse = 121.393\\nsamples = 8\\nvalue = 51.071'),\n",
       " Text(390.6, 217.44, 'X[0] <= 11.391\\nmse = 843.286\\nsamples = 13\\nvalue = 135.974'),\n",
       " Text(334.8, 130.464, 'mse = 302.919\\nsamples = 8\\nvalue = 115.78'),\n",
       " Text(446.40000000000003, 130.464, 'mse = 11.56\\nsamples = 5\\nvalue = 168.283'),\n",
       " Text(558.0, 304.416, 'X[0] <= 16.986\\nmse = 5668.677\\nsamples = 13\\nvalue = 314.088'),\n",
       " Text(502.20000000000005, 217.44, 'mse = 1502.746\\nsamples = 7\\nvalue = 251.947'),\n",
       " Text(613.8000000000001, 217.44, 'mse = 768.052\\nsamples = 6\\nvalue = 386.585')]"
      ]
     },
     "execution_count": 26,
     "metadata": {},
     "output_type": "execute_result"
    },
    {
     "data": {
      "image/png": "[encoded data removed]",
      "text/plain": [
       "<Figure size 864x576 with 1 Axes>"
      ]
     },
     "metadata": {
      "needs_background": "light"
     },
     "output_type": "display_data"
    }
   ],
   "source": [
    "from sklearn.tree import plot_tree\n",
    "plt.subplots(figsize=(12,8))\n",
    "plot_tree(dtregres, max_depth = 6)"
   ]
  },
  {
   "cell_type": "code",
   "execution_count": null,
   "metadata": {},
   "outputs": [],
   "source": []
  }
 ],
 "metadata": {
  "colab": {
   "name": "Tugas Harian 1 Minggu 4.ipynb",
   "provenance": []
  },
  "kernelspec": {
   "display_name": "Python 3",
   "language": "python",
   "name": "python3"
  },
  "language_info": {
   "codemirror_mode": {
    "name": "ipython",
    "version": 3
   },
   "file_extension": ".py",
   "mimetype": "text/x-python",
   "name": "python",
   "nbconvert_exporter": "python",
   "pygments_lexer": "ipython3",
   "version": "3.7.6"
  }
 },
 "nbformat": 4,
 "nbformat_minor": 1
}

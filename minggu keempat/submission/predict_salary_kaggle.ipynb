{
  "nbformat": 4,
  "nbformat_minor": 0,
  "metadata": {
    "kernelspec": {
      "display_name": "Python 3",
      "language": "python",
      "name": "python3"
    },
    "language_info": {
      "codemirror_mode": {
        "name": "ipython",
        "version": 3
      },
      "file_extension": ".py",
      "mimetype": "text/x-python",
      "name": "python",
      "nbconvert_exporter": "python",
      "pygments_lexer": "ipython3",
      "version": "3.7.6"
    },
    "colab": {
      "name": "predict_salary_kaggle.ipynb",
      "provenance": []
    }
  },
  "cells": [
    {
      "cell_type": "markdown",
      "metadata": {
        "id": "NXrOSygbMBx3",
        "colab_type": "text"
      },
      "source": [
        "# 1. Collecting the Data\n",
        "**Loading data using pandas**"
      ]
    },
    {
      "cell_type": "code",
      "metadata": {
        "id": "nVfH3lu9MBx7",
        "colab_type": "code",
        "colab": {
          "base_uri": "https://localhost:8080/",
          "height": 675
        },
        "outputId": "e338859c-3e06-45ba-88ce-85025884688d"
      },
      "source": [
        "# import module yang akan digunakan\n",
        "import pandas as pd\n",
        "\n",
        "df = pd.read_csv('train.csv')\n",
        "df_test = pd.read_csv('test.csv')\n",
        "display(df.head(5))\n",
        "display(df_test.head(5))"
      ],
      "execution_count": 172,
      "outputs": [
        {
          "output_type": "display_data",
          "data": {
            "text/html": [
              "<div>\n",
              "<style scoped>\n",
              "    .dataframe tbody tr th:only-of-type {\n",
              "        vertical-align: middle;\n",
              "    }\n",
              "\n",
              "    .dataframe tbody tr th {\n",
              "        vertical-align: top;\n",
              "    }\n",
              "\n",
              "    .dataframe thead th {\n",
              "        text-align: right;\n",
              "    }\n",
              "</style>\n",
              "<table border=\"1\" class=\"dataframe\">\n",
              "  <thead>\n",
              "    <tr style=\"text-align: right;\">\n",
              "      <th></th>\n",
              "      <th>id</th>\n",
              "      <th>Umur</th>\n",
              "      <th>Kelas Pekerja</th>\n",
              "      <th>Berat Akhir</th>\n",
              "      <th>Pendidikan</th>\n",
              "      <th>Jmlh Tahun Pendidikan</th>\n",
              "      <th>Status Perkawinan</th>\n",
              "      <th>Pekerjaan</th>\n",
              "      <th>Jenis Kelamin</th>\n",
              "      <th>Keuntungan Kapital</th>\n",
              "      <th>Kerugian Capital</th>\n",
              "      <th>Jam per Minggu</th>\n",
              "      <th>Gaji</th>\n",
              "    </tr>\n",
              "  </thead>\n",
              "  <tbody>\n",
              "    <tr>\n",
              "      <th>0</th>\n",
              "      <td>0</td>\n",
              "      <td>21</td>\n",
              "      <td>Wiraswasta</td>\n",
              "      <td>242912</td>\n",
              "      <td>SMA</td>\n",
              "      <td>9</td>\n",
              "      <td>Belum Pernah Menikah</td>\n",
              "      <td>Servis Lainnya</td>\n",
              "      <td>Perempuan</td>\n",
              "      <td>0.0</td>\n",
              "      <td>0.0</td>\n",
              "      <td>35.0</td>\n",
              "      <td>&lt;=7jt</td>\n",
              "    </tr>\n",
              "    <tr>\n",
              "      <th>1</th>\n",
              "      <td>1</td>\n",
              "      <td>49</td>\n",
              "      <td>Wiraswasta</td>\n",
              "      <td>140782</td>\n",
              "      <td>10th</td>\n",
              "      <td>6</td>\n",
              "      <td>Cerai</td>\n",
              "      <td>Ekesekutif Managerial</td>\n",
              "      <td>Perempuan</td>\n",
              "      <td>0.0</td>\n",
              "      <td>0.0</td>\n",
              "      <td>40.0</td>\n",
              "      <td>&lt;=7jt</td>\n",
              "    </tr>\n",
              "    <tr>\n",
              "      <th>2</th>\n",
              "      <td>2</td>\n",
              "      <td>44</td>\n",
              "      <td>Wiraswasta</td>\n",
              "      <td>120057</td>\n",
              "      <td>D3</td>\n",
              "      <td>12</td>\n",
              "      <td>Menikah</td>\n",
              "      <td>Ekesekutif Managerial</td>\n",
              "      <td>Laki2</td>\n",
              "      <td>61404000.0</td>\n",
              "      <td>0.0</td>\n",
              "      <td>45.0</td>\n",
              "      <td>&gt;7jt</td>\n",
              "    </tr>\n",
              "    <tr>\n",
              "      <th>3</th>\n",
              "      <td>3</td>\n",
              "      <td>24</td>\n",
              "      <td>Wiraswasta</td>\n",
              "      <td>194630</td>\n",
              "      <td>Sarjana</td>\n",
              "      <td>13</td>\n",
              "      <td>Belum Pernah Menikah</td>\n",
              "      <td>Spesialis</td>\n",
              "      <td>Laki2</td>\n",
              "      <td>0.0</td>\n",
              "      <td>0.0</td>\n",
              "      <td>35.0</td>\n",
              "      <td>&lt;=7jt</td>\n",
              "    </tr>\n",
              "    <tr>\n",
              "      <th>4</th>\n",
              "      <td>4</td>\n",
              "      <td>33</td>\n",
              "      <td>Wiraswasta</td>\n",
              "      <td>219619</td>\n",
              "      <td>Master</td>\n",
              "      <td>14</td>\n",
              "      <td>Menikah</td>\n",
              "      <td>Spesialis</td>\n",
              "      <td>Laki2</td>\n",
              "      <td>210336000.0</td>\n",
              "      <td>0.0</td>\n",
              "      <td>40.0</td>\n",
              "      <td>&gt;7jt</td>\n",
              "    </tr>\n",
              "  </tbody>\n",
              "</table>\n",
              "</div>"
            ],
            "text/plain": [
              "   id  Umur Kelas Pekerja  ...  Kerugian Capital Jam per Minggu   Gaji\n",
              "0   0    21    Wiraswasta  ...               0.0           35.0  <=7jt\n",
              "1   1    49    Wiraswasta  ...               0.0           40.0  <=7jt\n",
              "2   2    44    Wiraswasta  ...               0.0           45.0   >7jt\n",
              "3   3    24    Wiraswasta  ...               0.0           35.0  <=7jt\n",
              "4   4    33    Wiraswasta  ...               0.0           40.0   >7jt\n",
              "\n",
              "[5 rows x 13 columns]"
            ]
          },
          "metadata": {
            "tags": []
          }
        },
        {
          "output_type": "display_data",
          "data": {
            "text/html": [
              "<div>\n",
              "<style scoped>\n",
              "    .dataframe tbody tr th:only-of-type {\n",
              "        vertical-align: middle;\n",
              "    }\n",
              "\n",
              "    .dataframe tbody tr th {\n",
              "        vertical-align: top;\n",
              "    }\n",
              "\n",
              "    .dataframe thead th {\n",
              "        text-align: right;\n",
              "    }\n",
              "</style>\n",
              "<table border=\"1\" class=\"dataframe\">\n",
              "  <thead>\n",
              "    <tr style=\"text-align: right;\">\n",
              "      <th></th>\n",
              "      <th>id</th>\n",
              "      <th>Umur</th>\n",
              "      <th>Kelas Pekerja</th>\n",
              "      <th>Berat Akhir</th>\n",
              "      <th>Pendidikan</th>\n",
              "      <th>Jmlh Tahun Pendidikan</th>\n",
              "      <th>Status Perkawinan</th>\n",
              "      <th>Pekerjaan</th>\n",
              "      <th>Jenis Kelamin</th>\n",
              "      <th>Keuntungan Kapital</th>\n",
              "      <th>Kerugian Capital</th>\n",
              "      <th>Jam per Minggu</th>\n",
              "    </tr>\n",
              "  </thead>\n",
              "  <tbody>\n",
              "    <tr>\n",
              "      <th>0</th>\n",
              "      <td>35994</td>\n",
              "      <td>30</td>\n",
              "      <td>Pemerintah Lokal</td>\n",
              "      <td>99761</td>\n",
              "      <td>D4</td>\n",
              "      <td>11</td>\n",
              "      <td>Cerai</td>\n",
              "      <td>Pemuka Agama</td>\n",
              "      <td>Perempuan</td>\n",
              "      <td>0.0</td>\n",
              "      <td>0.0</td>\n",
              "      <td>40.0</td>\n",
              "    </tr>\n",
              "    <tr>\n",
              "      <th>1</th>\n",
              "      <td>35995</td>\n",
              "      <td>28</td>\n",
              "      <td>Wiraswasta</td>\n",
              "      <td>202206</td>\n",
              "      <td>SMA</td>\n",
              "      <td>9</td>\n",
              "      <td>Menikah</td>\n",
              "      <td>Mesin Inspeksi</td>\n",
              "      <td>Laki2</td>\n",
              "      <td>0.0</td>\n",
              "      <td>0.0</td>\n",
              "      <td>50.0</td>\n",
              "    </tr>\n",
              "    <tr>\n",
              "      <th>2</th>\n",
              "      <td>35996</td>\n",
              "      <td>34</td>\n",
              "      <td>Pemerintah Provinsi</td>\n",
              "      <td>199934</td>\n",
              "      <td>Pendidikan Tinggi</td>\n",
              "      <td>10</td>\n",
              "      <td>Menikah</td>\n",
              "      <td>Pemuka Agama</td>\n",
              "      <td>Laki2</td>\n",
              "      <td>0.0</td>\n",
              "      <td>0.0</td>\n",
              "      <td>40.0</td>\n",
              "    </tr>\n",
              "    <tr>\n",
              "      <th>3</th>\n",
              "      <td>35997</td>\n",
              "      <td>51</td>\n",
              "      <td>Wiraswasta</td>\n",
              "      <td>373448</td>\n",
              "      <td>Pendidikan Tinggi</td>\n",
              "      <td>10</td>\n",
              "      <td>Menikah</td>\n",
              "      <td>Ekesekutif Managerial</td>\n",
              "      <td>Laki2</td>\n",
              "      <td>0.0</td>\n",
              "      <td>28028000.0</td>\n",
              "      <td>40.0</td>\n",
              "    </tr>\n",
              "    <tr>\n",
              "      <th>4</th>\n",
              "      <td>35998</td>\n",
              "      <td>20</td>\n",
              "      <td>?</td>\n",
              "      <td>144685</td>\n",
              "      <td>Pendidikan Tinggi</td>\n",
              "      <td>10</td>\n",
              "      <td>Belum Pernah Menikah</td>\n",
              "      <td>?</td>\n",
              "      <td>Perempuan</td>\n",
              "      <td>0.0</td>\n",
              "      <td>22428000.0</td>\n",
              "      <td>40.0</td>\n",
              "    </tr>\n",
              "  </tbody>\n",
              "</table>\n",
              "</div>"
            ],
            "text/plain": [
              "      id  Umur  ... Kerugian Capital  Jam per Minggu\n",
              "0  35994    30  ...              0.0            40.0\n",
              "1  35995    28  ...              0.0            50.0\n",
              "2  35996    34  ...              0.0            40.0\n",
              "3  35997    51  ...       28028000.0            40.0\n",
              "4  35998    20  ...       22428000.0            40.0\n",
              "\n",
              "[5 rows x 12 columns]"
            ]
          },
          "metadata": {
            "tags": []
          }
        }
      ]
    },
    {
      "cell_type": "markdown",
      "metadata": {
        "id": "Ufd072M4MByK",
        "colab_type": "text"
      },
      "source": [
        "# 2. Exploratory Data Analysis(EDA)"
      ]
    },
    {
      "cell_type": "code",
      "metadata": {
        "id": "2kuQasRQMByN",
        "colab_type": "code",
        "colab": {
          "base_uri": "https://localhost:8080/",
          "height": 381
        },
        "outputId": "61149c38-ce66-4d5c-dce2-9b44a52c3dcf"
      },
      "source": [
        "df.info()"
      ],
      "execution_count": 173,
      "outputs": [
        {
          "output_type": "stream",
          "text": [
            "<class 'pandas.core.frame.DataFrame'>\n",
            "RangeIndex: 35994 entries, 0 to 35993\n",
            "Data columns (total 13 columns):\n",
            " #   Column                 Non-Null Count  Dtype  \n",
            "---  ------                 --------------  -----  \n",
            " 0   id                     35994 non-null  int64  \n",
            " 1   Umur                   35994 non-null  int64  \n",
            " 2   Kelas Pekerja          35994 non-null  object \n",
            " 3   Berat Akhir            35994 non-null  int64  \n",
            " 4   Pendidikan             35994 non-null  object \n",
            " 5   Jmlh Tahun Pendidikan  35994 non-null  int64  \n",
            " 6   Status Perkawinan      35994 non-null  object \n",
            " 7   Pekerjaan              35994 non-null  object \n",
            " 8   Jenis Kelamin          35994 non-null  object \n",
            " 9   Keuntungan Kapital     35994 non-null  float64\n",
            " 10  Kerugian Capital       35994 non-null  float64\n",
            " 11  Jam per Minggu         35994 non-null  float64\n",
            " 12  Gaji                   35994 non-null  object \n",
            "dtypes: float64(3), int64(4), object(6)\n",
            "memory usage: 3.6+ MB\n"
          ],
          "name": "stdout"
        }
      ]
    },
    {
      "cell_type": "code",
      "metadata": {
        "id": "zbt9McnFMByZ",
        "colab_type": "code",
        "colab": {
          "base_uri": "https://localhost:8080/",
          "height": 363
        },
        "outputId": "a66e1b45-1651-4b75-96e9-3746668ff29c"
      },
      "source": [
        "df_test.info()"
      ],
      "execution_count": 174,
      "outputs": [
        {
          "output_type": "stream",
          "text": [
            "<class 'pandas.core.frame.DataFrame'>\n",
            "RangeIndex: 9599 entries, 0 to 9598\n",
            "Data columns (total 12 columns):\n",
            " #   Column                 Non-Null Count  Dtype  \n",
            "---  ------                 --------------  -----  \n",
            " 0   id                     9599 non-null   int64  \n",
            " 1   Umur                   9599 non-null   int64  \n",
            " 2   Kelas Pekerja          9599 non-null   object \n",
            " 3   Berat Akhir            9599 non-null   int64  \n",
            " 4   Pendidikan             9599 non-null   object \n",
            " 5   Jmlh Tahun Pendidikan  9599 non-null   int64  \n",
            " 6   Status Perkawinan      9599 non-null   object \n",
            " 7   Pekerjaan              9599 non-null   object \n",
            " 8   Jenis Kelamin          9599 non-null   object \n",
            " 9   Keuntungan Kapital     9599 non-null   float64\n",
            " 10  Kerugian Capital       9599 non-null   float64\n",
            " 11  Jam per Minggu         9599 non-null   float64\n",
            "dtypes: float64(3), int64(4), object(5)\n",
            "memory usage: 900.0+ KB\n"
          ],
          "name": "stdout"
        }
      ]
    },
    {
      "cell_type": "markdown",
      "metadata": {
        "id": "_DFXTmrLMBzo",
        "colab_type": "text"
      },
      "source": [
        "# 3. Feature Engineering"
      ]
    },
    {
      "cell_type": "code",
      "metadata": {
        "id": "R7KGDFSwMBzq",
        "colab_type": "code",
        "colab": {
          "base_uri": "https://localhost:8080/",
          "height": 645
        },
        "outputId": "2734d74b-46cf-482b-e4fd-2bc1dc89eb86"
      },
      "source": [
        "display(df.head(10))"
      ],
      "execution_count": 175,
      "outputs": [
        {
          "output_type": "display_data",
          "data": {
            "text/html": [
              "<div>\n",
              "<style scoped>\n",
              "    .dataframe tbody tr th:only-of-type {\n",
              "        vertical-align: middle;\n",
              "    }\n",
              "\n",
              "    .dataframe tbody tr th {\n",
              "        vertical-align: top;\n",
              "    }\n",
              "\n",
              "    .dataframe thead th {\n",
              "        text-align: right;\n",
              "    }\n",
              "</style>\n",
              "<table border=\"1\" class=\"dataframe\">\n",
              "  <thead>\n",
              "    <tr style=\"text-align: right;\">\n",
              "      <th></th>\n",
              "      <th>id</th>\n",
              "      <th>Umur</th>\n",
              "      <th>Kelas Pekerja</th>\n",
              "      <th>Berat Akhir</th>\n",
              "      <th>Pendidikan</th>\n",
              "      <th>Jmlh Tahun Pendidikan</th>\n",
              "      <th>Status Perkawinan</th>\n",
              "      <th>Pekerjaan</th>\n",
              "      <th>Jenis Kelamin</th>\n",
              "      <th>Keuntungan Kapital</th>\n",
              "      <th>Kerugian Capital</th>\n",
              "      <th>Jam per Minggu</th>\n",
              "      <th>Gaji</th>\n",
              "    </tr>\n",
              "  </thead>\n",
              "  <tbody>\n",
              "    <tr>\n",
              "      <th>0</th>\n",
              "      <td>0</td>\n",
              "      <td>21</td>\n",
              "      <td>Wiraswasta</td>\n",
              "      <td>242912</td>\n",
              "      <td>SMA</td>\n",
              "      <td>9</td>\n",
              "      <td>Belum Pernah Menikah</td>\n",
              "      <td>Servis Lainnya</td>\n",
              "      <td>Perempuan</td>\n",
              "      <td>0.0</td>\n",
              "      <td>0.0</td>\n",
              "      <td>35.0</td>\n",
              "      <td>&lt;=7jt</td>\n",
              "    </tr>\n",
              "    <tr>\n",
              "      <th>1</th>\n",
              "      <td>1</td>\n",
              "      <td>49</td>\n",
              "      <td>Wiraswasta</td>\n",
              "      <td>140782</td>\n",
              "      <td>10th</td>\n",
              "      <td>6</td>\n",
              "      <td>Cerai</td>\n",
              "      <td>Ekesekutif Managerial</td>\n",
              "      <td>Perempuan</td>\n",
              "      <td>0.0</td>\n",
              "      <td>0.0</td>\n",
              "      <td>40.0</td>\n",
              "      <td>&lt;=7jt</td>\n",
              "    </tr>\n",
              "    <tr>\n",
              "      <th>2</th>\n",
              "      <td>2</td>\n",
              "      <td>44</td>\n",
              "      <td>Wiraswasta</td>\n",
              "      <td>120057</td>\n",
              "      <td>D3</td>\n",
              "      <td>12</td>\n",
              "      <td>Menikah</td>\n",
              "      <td>Ekesekutif Managerial</td>\n",
              "      <td>Laki2</td>\n",
              "      <td>61404000.0</td>\n",
              "      <td>0.0</td>\n",
              "      <td>45.0</td>\n",
              "      <td>&gt;7jt</td>\n",
              "    </tr>\n",
              "    <tr>\n",
              "      <th>3</th>\n",
              "      <td>3</td>\n",
              "      <td>24</td>\n",
              "      <td>Wiraswasta</td>\n",
              "      <td>194630</td>\n",
              "      <td>Sarjana</td>\n",
              "      <td>13</td>\n",
              "      <td>Belum Pernah Menikah</td>\n",
              "      <td>Spesialis</td>\n",
              "      <td>Laki2</td>\n",
              "      <td>0.0</td>\n",
              "      <td>0.0</td>\n",
              "      <td>35.0</td>\n",
              "      <td>&lt;=7jt</td>\n",
              "    </tr>\n",
              "    <tr>\n",
              "      <th>4</th>\n",
              "      <td>4</td>\n",
              "      <td>33</td>\n",
              "      <td>Wiraswasta</td>\n",
              "      <td>219619</td>\n",
              "      <td>Master</td>\n",
              "      <td>14</td>\n",
              "      <td>Menikah</td>\n",
              "      <td>Spesialis</td>\n",
              "      <td>Laki2</td>\n",
              "      <td>210336000.0</td>\n",
              "      <td>0.0</td>\n",
              "      <td>40.0</td>\n",
              "      <td>&gt;7jt</td>\n",
              "    </tr>\n",
              "    <tr>\n",
              "      <th>5</th>\n",
              "      <td>5</td>\n",
              "      <td>31</td>\n",
              "      <td>Wiraswasta</td>\n",
              "      <td>331065</td>\n",
              "      <td>Sarjana</td>\n",
              "      <td>13</td>\n",
              "      <td>Belum Pernah Menikah</td>\n",
              "      <td>Ekesekutif Managerial</td>\n",
              "      <td>Perempuan</td>\n",
              "      <td>0.0</td>\n",
              "      <td>19712000.0</td>\n",
              "      <td>40.0</td>\n",
              "      <td>&lt;=7jt</td>\n",
              "    </tr>\n",
              "    <tr>\n",
              "      <th>6</th>\n",
              "      <td>6</td>\n",
              "      <td>32</td>\n",
              "      <td>Wiraswasta</td>\n",
              "      <td>111520</td>\n",
              "      <td>Pendidikan Tinggi</td>\n",
              "      <td>10</td>\n",
              "      <td>Belum Pernah Menikah</td>\n",
              "      <td>Servis Lainnya</td>\n",
              "      <td>Laki2</td>\n",
              "      <td>0.0</td>\n",
              "      <td>0.0</td>\n",
              "      <td>34.0</td>\n",
              "      <td>&lt;=7jt</td>\n",
              "    </tr>\n",
              "    <tr>\n",
              "      <th>7</th>\n",
              "      <td>7</td>\n",
              "      <td>20</td>\n",
              "      <td>Wiraswasta</td>\n",
              "      <td>115057</td>\n",
              "      <td>SMA</td>\n",
              "      <td>9</td>\n",
              "      <td>Belum Pernah Menikah</td>\n",
              "      <td>Perbaikan Kerajinan</td>\n",
              "      <td>Laki2</td>\n",
              "      <td>0.0</td>\n",
              "      <td>0.0</td>\n",
              "      <td>40.0</td>\n",
              "      <td>&lt;=7jt</td>\n",
              "    </tr>\n",
              "    <tr>\n",
              "      <th>8</th>\n",
              "      <td>8</td>\n",
              "      <td>23</td>\n",
              "      <td>?</td>\n",
              "      <td>191910</td>\n",
              "      <td>Pendidikan Tinggi</td>\n",
              "      <td>10</td>\n",
              "      <td>Belum Pernah Menikah</td>\n",
              "      <td>?</td>\n",
              "      <td>Laki2</td>\n",
              "      <td>0.0</td>\n",
              "      <td>0.0</td>\n",
              "      <td>40.0</td>\n",
              "      <td>&lt;=7jt</td>\n",
              "    </tr>\n",
              "    <tr>\n",
              "      <th>9</th>\n",
              "      <td>9</td>\n",
              "      <td>43</td>\n",
              "      <td>Wiraswasta</td>\n",
              "      <td>134120</td>\n",
              "      <td>SMA</td>\n",
              "      <td>9</td>\n",
              "      <td>Cerai</td>\n",
              "      <td>Sales</td>\n",
              "      <td>Perempuan</td>\n",
              "      <td>0.0</td>\n",
              "      <td>0.0</td>\n",
              "      <td>46.0</td>\n",
              "      <td>&lt;=7jt</td>\n",
              "    </tr>\n",
              "  </tbody>\n",
              "</table>\n",
              "</div>"
            ],
            "text/plain": [
              "   id  Umur Kelas Pekerja  ...  Kerugian Capital Jam per Minggu   Gaji\n",
              "0   0    21    Wiraswasta  ...               0.0           35.0  <=7jt\n",
              "1   1    49    Wiraswasta  ...               0.0           40.0  <=7jt\n",
              "2   2    44    Wiraswasta  ...               0.0           45.0   >7jt\n",
              "3   3    24    Wiraswasta  ...               0.0           35.0  <=7jt\n",
              "4   4    33    Wiraswasta  ...               0.0           40.0   >7jt\n",
              "5   5    31    Wiraswasta  ...        19712000.0           40.0  <=7jt\n",
              "6   6    32    Wiraswasta  ...               0.0           34.0  <=7jt\n",
              "7   7    20    Wiraswasta  ...               0.0           40.0  <=7jt\n",
              "8   8    23             ?  ...               0.0           40.0  <=7jt\n",
              "9   9    43    Wiraswasta  ...               0.0           46.0  <=7jt\n",
              "\n",
              "[10 rows x 13 columns]"
            ]
          },
          "metadata": {
            "tags": []
          }
        }
      ]
    },
    {
      "cell_type": "markdown",
      "metadata": {
        "id": "iGAALFzF4QIo",
        "colab_type": "text"
      },
      "source": [
        "**Mengecek Missing Value**"
      ]
    },
    {
      "cell_type": "code",
      "metadata": {
        "id": "izP3nmD366u4",
        "colab_type": "code",
        "colab": {
          "base_uri": "https://localhost:8080/",
          "height": 583
        },
        "outputId": "dcc1f93c-9fed-42f4-d4d6-81f8da904fb7"
      },
      "source": [
        "df[df['Kelas Pekerja'] == '?']"
      ],
      "execution_count": 176,
      "outputs": [
        {
          "output_type": "execute_result",
          "data": {
            "text/html": [
              "<div>\n",
              "<style scoped>\n",
              "    .dataframe tbody tr th:only-of-type {\n",
              "        vertical-align: middle;\n",
              "    }\n",
              "\n",
              "    .dataframe tbody tr th {\n",
              "        vertical-align: top;\n",
              "    }\n",
              "\n",
              "    .dataframe thead th {\n",
              "        text-align: right;\n",
              "    }\n",
              "</style>\n",
              "<table border=\"1\" class=\"dataframe\">\n",
              "  <thead>\n",
              "    <tr style=\"text-align: right;\">\n",
              "      <th></th>\n",
              "      <th>id</th>\n",
              "      <th>Umur</th>\n",
              "      <th>Kelas Pekerja</th>\n",
              "      <th>Berat Akhir</th>\n",
              "      <th>Pendidikan</th>\n",
              "      <th>Jmlh Tahun Pendidikan</th>\n",
              "      <th>Status Perkawinan</th>\n",
              "      <th>Pekerjaan</th>\n",
              "      <th>Jenis Kelamin</th>\n",
              "      <th>Keuntungan Kapital</th>\n",
              "      <th>Kerugian Capital</th>\n",
              "      <th>Jam per Minggu</th>\n",
              "      <th>Gaji</th>\n",
              "    </tr>\n",
              "  </thead>\n",
              "  <tbody>\n",
              "    <tr>\n",
              "      <th>8</th>\n",
              "      <td>8</td>\n",
              "      <td>23</td>\n",
              "      <td>?</td>\n",
              "      <td>191910</td>\n",
              "      <td>Pendidikan Tinggi</td>\n",
              "      <td>10</td>\n",
              "      <td>Belum Pernah Menikah</td>\n",
              "      <td>?</td>\n",
              "      <td>Laki2</td>\n",
              "      <td>0.0</td>\n",
              "      <td>0.0</td>\n",
              "      <td>40.0</td>\n",
              "      <td>&lt;=7jt</td>\n",
              "    </tr>\n",
              "    <tr>\n",
              "      <th>27</th>\n",
              "      <td>27</td>\n",
              "      <td>42</td>\n",
              "      <td>?</td>\n",
              "      <td>148951</td>\n",
              "      <td>Sarjana</td>\n",
              "      <td>13</td>\n",
              "      <td>Cerai</td>\n",
              "      <td>?</td>\n",
              "      <td>Perempuan</td>\n",
              "      <td>0.0</td>\n",
              "      <td>0.0</td>\n",
              "      <td>12.0</td>\n",
              "      <td>&lt;=7jt</td>\n",
              "    </tr>\n",
              "    <tr>\n",
              "      <th>73</th>\n",
              "      <td>73</td>\n",
              "      <td>21</td>\n",
              "      <td>?</td>\n",
              "      <td>85733</td>\n",
              "      <td>Pendidikan Tinggi</td>\n",
              "      <td>10</td>\n",
              "      <td>Belum Pernah Menikah</td>\n",
              "      <td>?</td>\n",
              "      <td>Perempuan</td>\n",
              "      <td>0.0</td>\n",
              "      <td>0.0</td>\n",
              "      <td>40.0</td>\n",
              "      <td>&lt;=7jt</td>\n",
              "    </tr>\n",
              "    <tr>\n",
              "      <th>99</th>\n",
              "      <td>99</td>\n",
              "      <td>74</td>\n",
              "      <td>?</td>\n",
              "      <td>169303</td>\n",
              "      <td>SMA</td>\n",
              "      <td>9</td>\n",
              "      <td>Menikah</td>\n",
              "      <td>?</td>\n",
              "      <td>Laki2</td>\n",
              "      <td>94738000.0</td>\n",
              "      <td>0.0</td>\n",
              "      <td>6.0</td>\n",
              "      <td>&lt;=7jt</td>\n",
              "    </tr>\n",
              "    <tr>\n",
              "      <th>105</th>\n",
              "      <td>105</td>\n",
              "      <td>60</td>\n",
              "      <td>?</td>\n",
              "      <td>199947</td>\n",
              "      <td>SMA</td>\n",
              "      <td>9</td>\n",
              "      <td>Menikah</td>\n",
              "      <td>?</td>\n",
              "      <td>Laki2</td>\n",
              "      <td>0.0</td>\n",
              "      <td>0.0</td>\n",
              "      <td>32.0</td>\n",
              "      <td>&lt;=7jt</td>\n",
              "    </tr>\n",
              "    <tr>\n",
              "      <th>...</th>\n",
              "      <td>...</td>\n",
              "      <td>...</td>\n",
              "      <td>...</td>\n",
              "      <td>...</td>\n",
              "      <td>...</td>\n",
              "      <td>...</td>\n",
              "      <td>...</td>\n",
              "      <td>...</td>\n",
              "      <td>...</td>\n",
              "      <td>...</td>\n",
              "      <td>...</td>\n",
              "      <td>...</td>\n",
              "      <td>...</td>\n",
              "    </tr>\n",
              "    <tr>\n",
              "      <th>35838</th>\n",
              "      <td>35838</td>\n",
              "      <td>54</td>\n",
              "      <td>?</td>\n",
              "      <td>155755</td>\n",
              "      <td>SMA</td>\n",
              "      <td>9</td>\n",
              "      <td>Cerai</td>\n",
              "      <td>?</td>\n",
              "      <td>Perempuan</td>\n",
              "      <td>61824000.0</td>\n",
              "      <td>0.0</td>\n",
              "      <td>25.0</td>\n",
              "      <td>&lt;=7jt</td>\n",
              "    </tr>\n",
              "    <tr>\n",
              "      <th>35850</th>\n",
              "      <td>35850</td>\n",
              "      <td>18</td>\n",
              "      <td>?</td>\n",
              "      <td>252046</td>\n",
              "      <td>SMA</td>\n",
              "      <td>9</td>\n",
              "      <td>Belum Pernah Menikah</td>\n",
              "      <td>?</td>\n",
              "      <td>Perempuan</td>\n",
              "      <td>0.0</td>\n",
              "      <td>0.0</td>\n",
              "      <td>30.0</td>\n",
              "      <td>&lt;=7jt</td>\n",
              "    </tr>\n",
              "    <tr>\n",
              "      <th>35928</th>\n",
              "      <td>35928</td>\n",
              "      <td>29</td>\n",
              "      <td>?</td>\n",
              "      <td>41281</td>\n",
              "      <td>Sarjana</td>\n",
              "      <td>13</td>\n",
              "      <td>Menikah LDR</td>\n",
              "      <td>?</td>\n",
              "      <td>Laki2</td>\n",
              "      <td>0.0</td>\n",
              "      <td>0.0</td>\n",
              "      <td>50.0</td>\n",
              "      <td>&lt;=7jt</td>\n",
              "    </tr>\n",
              "    <tr>\n",
              "      <th>35939</th>\n",
              "      <td>35939</td>\n",
              "      <td>70</td>\n",
              "      <td>?</td>\n",
              "      <td>158642</td>\n",
              "      <td>SMA</td>\n",
              "      <td>9</td>\n",
              "      <td>Janda</td>\n",
              "      <td>?</td>\n",
              "      <td>Perempuan</td>\n",
              "      <td>41902000.0</td>\n",
              "      <td>0.0</td>\n",
              "      <td>20.0</td>\n",
              "      <td>&lt;=7jt</td>\n",
              "    </tr>\n",
              "    <tr>\n",
              "      <th>35948</th>\n",
              "      <td>35948</td>\n",
              "      <td>45</td>\n",
              "      <td>?</td>\n",
              "      <td>256649</td>\n",
              "      <td>Sarjana</td>\n",
              "      <td>13</td>\n",
              "      <td>Menikah</td>\n",
              "      <td>?</td>\n",
              "      <td>Laki2</td>\n",
              "      <td>0.0</td>\n",
              "      <td>0.0</td>\n",
              "      <td>45.0</td>\n",
              "      <td>&gt;7jt</td>\n",
              "    </tr>\n",
              "  </tbody>\n",
              "</table>\n",
              "<p>2063 rows × 13 columns</p>\n",
              "</div>"
            ],
            "text/plain": [
              "          id  Umur Kelas Pekerja  ...  Kerugian Capital Jam per Minggu   Gaji\n",
              "8          8    23             ?  ...               0.0           40.0  <=7jt\n",
              "27        27    42             ?  ...               0.0           12.0  <=7jt\n",
              "73        73    21             ?  ...               0.0           40.0  <=7jt\n",
              "99        99    74             ?  ...               0.0            6.0  <=7jt\n",
              "105      105    60             ?  ...               0.0           32.0  <=7jt\n",
              "...      ...   ...           ...  ...               ...            ...    ...\n",
              "35838  35838    54             ?  ...               0.0           25.0  <=7jt\n",
              "35850  35850    18             ?  ...               0.0           30.0  <=7jt\n",
              "35928  35928    29             ?  ...               0.0           50.0  <=7jt\n",
              "35939  35939    70             ?  ...               0.0           20.0  <=7jt\n",
              "35948  35948    45             ?  ...               0.0           45.0   >7jt\n",
              "\n",
              "[2063 rows x 13 columns]"
            ]
          },
          "metadata": {
            "tags": []
          },
          "execution_count": 176
        }
      ]
    },
    {
      "cell_type": "code",
      "metadata": {
        "id": "yGqkTgET7BUa",
        "colab_type": "code",
        "colab": {
          "base_uri": "https://localhost:8080/",
          "height": 308
        },
        "outputId": "36422bf0-b933-4771-ca26-a4adb97432d6"
      },
      "source": [
        "df['Pekerjaan'].value_counts()"
      ],
      "execution_count": 177,
      "outputs": [
        {
          "output_type": "execute_result",
          "data": {
            "text/plain": [
              "Spesialis                4587\n",
              "Perbaikan Kerajinan      4507\n",
              "Ekesekutif Managerial    4481\n",
              "Pemuka Agama             4158\n",
              "Sales                    4044\n",
              "Servis Lainnya           3615\n",
              "Mesin Inspeksi           2250\n",
              "?                        2069\n",
              "Supir                    1741\n",
              "Pembersih                1540\n",
              "Petani                   1076\n",
              "Tech-support             1042\n",
              "Penjaga                   686\n",
              "Asisten Rumah Tangga      187\n",
              "Tentara                    11\n",
              "Name: Pekerjaan, dtype: int64"
            ]
          },
          "metadata": {
            "tags": []
          },
          "execution_count": 177
        }
      ]
    },
    {
      "cell_type": "code",
      "metadata": {
        "id": "iC5qG4OI7MuG",
        "colab_type": "code",
        "colab": {
          "base_uri": "https://localhost:8080/",
          "height": 199
        },
        "outputId": "f0727799-3efa-4947-b027-cb66eecac263"
      },
      "source": [
        "df['Kelas Pekerja'].value_counts()"
      ],
      "execution_count": 178,
      "outputs": [
        {
          "output_type": "execute_result",
          "data": {
            "text/plain": [
              "Wiraswasta                       24948\n",
              "Pekerja Bebas Bukan Perusahan     2866\n",
              "Pemerintah Lokal                  2280\n",
              "?                                 2063\n",
              "Pemerintah Negara                 1477\n",
              "Pekerja Bebas Perusahaan          1273\n",
              "Pemerintah Provinsi               1066\n",
              "Tanpa di Bayar                      15\n",
              "Tidak Pernah Bekerja                 6\n",
              "Name: Kelas Pekerja, dtype: int64"
            ]
          },
          "metadata": {
            "tags": []
          },
          "execution_count": 178
        }
      ]
    },
    {
      "cell_type": "code",
      "metadata": {
        "id": "DiIDTdV_7UPZ",
        "colab_type": "code",
        "colab": {
          "base_uri": "https://localhost:8080/",
          "height": 54
        },
        "outputId": "ff2c84fd-fd3a-4807-8b87-79db7c8d707a"
      },
      "source": [
        "df_test[df_test['Kelas Pekerja'] == '?']['Pekerjaan'].value_counts()"
      ],
      "execution_count": 179,
      "outputs": [
        {
          "output_type": "execute_result",
          "data": {
            "text/plain": [
              "?    552\n",
              "Name: Pekerjaan, dtype: int64"
            ]
          },
          "metadata": {
            "tags": []
          },
          "execution_count": 179
        }
      ]
    },
    {
      "cell_type": "code",
      "metadata": {
        "id": "yJ5UCh_C7cHC",
        "colab_type": "code",
        "colab": {
          "base_uri": "https://localhost:8080/",
          "height": 199
        },
        "outputId": "883604df-304d-4ebd-b7d9-261d43b792dc"
      },
      "source": [
        "df_test['Kelas Pekerja'].value_counts()"
      ],
      "execution_count": 180,
      "outputs": [
        {
          "output_type": "execute_result",
          "data": {
            "text/plain": [
              "Wiraswasta                       6714\n",
              "Pekerja Bebas Bukan Perusahan     732\n",
              "Pemerintah Lokal                  624\n",
              "?                                 552\n",
              "Pemerintah Negara                 376\n",
              "Pekerja Bebas Perusahaan          316\n",
              "Pemerintah Provinsi               279\n",
              "Tanpa di Bayar                      4\n",
              "Tidak Pernah Bekerja                2\n",
              "Name: Kelas Pekerja, dtype: int64"
            ]
          },
          "metadata": {
            "tags": []
          },
          "execution_count": 180
        }
      ]
    },
    {
      "cell_type": "code",
      "metadata": {
        "id": "6nIkW5QDDrPt",
        "colab_type": "code",
        "colab": {}
      },
      "source": [
        "df['Kelas Pekerja']= df['Kelas Pekerja'].replace('?', 'Wiraswasta')\n",
        "df_test['Kelas Pekerja'] = df_test['Kelas Pekerja'].replace('?', 'Wiraswasta')"
      ],
      "execution_count": 181,
      "outputs": []
    },
    {
      "cell_type": "code",
      "metadata": {
        "id": "aiG3LZVE9EGw",
        "colab_type": "code",
        "colab": {}
      },
      "source": [
        "df['Gaji'].replace({'<=7jt':0, '>7jt':1}, inplace=True)"
      ],
      "execution_count": 182,
      "outputs": []
    },
    {
      "cell_type": "code",
      "metadata": {
        "id": "PvjulIdF9V4d",
        "colab_type": "code",
        "colab": {}
      },
      "source": [
        "pendidikan = {\n",
        "    'SD' : 1,\n",
        "    '1st-4th' :1,\n",
        "    '5th-6th' :1,\n",
        "    '9th' : 2,\n",
        "    '7th-8th' : 2,\n",
        "    'SMA' : 3,\n",
        "    '11th' : 3,\n",
        "    '10th' : 3,\n",
        "    '12th' : 3,\n",
        "    'D3' : 4,\n",
        "    'D4' : 5,\n",
        "    'Pendidikan Tinggi' : 5,\n",
        "    'Sarjana' : 6,\n",
        "    'Master' : 7,\n",
        "    'Sekolah Professional' : 8,\n",
        "    'Doktor' : 9\n",
        "}\n",
        "\n",
        "df['Pendidikan'] = df['Pendidikan'].replace(pendidikan)\n",
        "df_test['Pendidikan'] = df_test['Pendidikan'].replace(pendidikan)"
      ],
      "execution_count": 183,
      "outputs": []
    },
    {
      "cell_type": "code",
      "metadata": {
        "id": "LwctBZX19oM1",
        "colab_type": "code",
        "colab": {}
      },
      "source": [
        "# drop id, gaji\n",
        "X_train = df.drop(['id','Gaji'], axis=1)\n",
        "X_test = df_test.drop(['id'], axis=1)\n",
        "\n",
        "y = df['Gaji']"
      ],
      "execution_count": 184,
      "outputs": []
    },
    {
      "cell_type": "code",
      "metadata": {
        "id": "cNIcJjf299dE",
        "colab_type": "code",
        "colab": {
          "base_uri": "https://localhost:8080/",
          "height": 721
        },
        "outputId": "da5a2aa9-0740-47e6-d76f-41433722f6e9"
      },
      "source": [
        "X_train"
      ],
      "execution_count": 185,
      "outputs": [
        {
          "output_type": "execute_result",
          "data": {
            "text/html": [
              "<div>\n",
              "<style scoped>\n",
              "    .dataframe tbody tr th:only-of-type {\n",
              "        vertical-align: middle;\n",
              "    }\n",
              "\n",
              "    .dataframe tbody tr th {\n",
              "        vertical-align: top;\n",
              "    }\n",
              "\n",
              "    .dataframe thead th {\n",
              "        text-align: right;\n",
              "    }\n",
              "</style>\n",
              "<table border=\"1\" class=\"dataframe\">\n",
              "  <thead>\n",
              "    <tr style=\"text-align: right;\">\n",
              "      <th></th>\n",
              "      <th>Umur</th>\n",
              "      <th>Kelas Pekerja</th>\n",
              "      <th>Berat Akhir</th>\n",
              "      <th>Pendidikan</th>\n",
              "      <th>Jmlh Tahun Pendidikan</th>\n",
              "      <th>Status Perkawinan</th>\n",
              "      <th>Pekerjaan</th>\n",
              "      <th>Jenis Kelamin</th>\n",
              "      <th>Keuntungan Kapital</th>\n",
              "      <th>Kerugian Capital</th>\n",
              "      <th>Jam per Minggu</th>\n",
              "    </tr>\n",
              "  </thead>\n",
              "  <tbody>\n",
              "    <tr>\n",
              "      <th>0</th>\n",
              "      <td>21</td>\n",
              "      <td>Wiraswasta</td>\n",
              "      <td>242912</td>\n",
              "      <td>3</td>\n",
              "      <td>9</td>\n",
              "      <td>Belum Pernah Menikah</td>\n",
              "      <td>Servis Lainnya</td>\n",
              "      <td>Perempuan</td>\n",
              "      <td>0.0</td>\n",
              "      <td>0.0</td>\n",
              "      <td>35.0</td>\n",
              "    </tr>\n",
              "    <tr>\n",
              "      <th>1</th>\n",
              "      <td>49</td>\n",
              "      <td>Wiraswasta</td>\n",
              "      <td>140782</td>\n",
              "      <td>3</td>\n",
              "      <td>6</td>\n",
              "      <td>Cerai</td>\n",
              "      <td>Ekesekutif Managerial</td>\n",
              "      <td>Perempuan</td>\n",
              "      <td>0.0</td>\n",
              "      <td>0.0</td>\n",
              "      <td>40.0</td>\n",
              "    </tr>\n",
              "    <tr>\n",
              "      <th>2</th>\n",
              "      <td>44</td>\n",
              "      <td>Wiraswasta</td>\n",
              "      <td>120057</td>\n",
              "      <td>4</td>\n",
              "      <td>12</td>\n",
              "      <td>Menikah</td>\n",
              "      <td>Ekesekutif Managerial</td>\n",
              "      <td>Laki2</td>\n",
              "      <td>61404000.0</td>\n",
              "      <td>0.0</td>\n",
              "      <td>45.0</td>\n",
              "    </tr>\n",
              "    <tr>\n",
              "      <th>3</th>\n",
              "      <td>24</td>\n",
              "      <td>Wiraswasta</td>\n",
              "      <td>194630</td>\n",
              "      <td>6</td>\n",
              "      <td>13</td>\n",
              "      <td>Belum Pernah Menikah</td>\n",
              "      <td>Spesialis</td>\n",
              "      <td>Laki2</td>\n",
              "      <td>0.0</td>\n",
              "      <td>0.0</td>\n",
              "      <td>35.0</td>\n",
              "    </tr>\n",
              "    <tr>\n",
              "      <th>4</th>\n",
              "      <td>33</td>\n",
              "      <td>Wiraswasta</td>\n",
              "      <td>219619</td>\n",
              "      <td>7</td>\n",
              "      <td>14</td>\n",
              "      <td>Menikah</td>\n",
              "      <td>Spesialis</td>\n",
              "      <td>Laki2</td>\n",
              "      <td>210336000.0</td>\n",
              "      <td>0.0</td>\n",
              "      <td>40.0</td>\n",
              "    </tr>\n",
              "    <tr>\n",
              "      <th>...</th>\n",
              "      <td>...</td>\n",
              "      <td>...</td>\n",
              "      <td>...</td>\n",
              "      <td>...</td>\n",
              "      <td>...</td>\n",
              "      <td>...</td>\n",
              "      <td>...</td>\n",
              "      <td>...</td>\n",
              "      <td>...</td>\n",
              "      <td>...</td>\n",
              "      <td>...</td>\n",
              "    </tr>\n",
              "    <tr>\n",
              "      <th>35989</th>\n",
              "      <td>47</td>\n",
              "      <td>Pekerja Bebas Bukan Perusahan</td>\n",
              "      <td>148169</td>\n",
              "      <td>3</td>\n",
              "      <td>9</td>\n",
              "      <td>Menikah</td>\n",
              "      <td>Perbaikan Kerajinan</td>\n",
              "      <td>Laki2</td>\n",
              "      <td>0.0</td>\n",
              "      <td>0.0</td>\n",
              "      <td>40.0</td>\n",
              "    </tr>\n",
              "    <tr>\n",
              "      <th>35990</th>\n",
              "      <td>69</td>\n",
              "      <td>Pekerja Bebas Perusahaan</td>\n",
              "      <td>264722</td>\n",
              "      <td>4</td>\n",
              "      <td>12</td>\n",
              "      <td>Menikah</td>\n",
              "      <td>Sales</td>\n",
              "      <td>Laki2</td>\n",
              "      <td>0.0</td>\n",
              "      <td>0.0</td>\n",
              "      <td>40.0</td>\n",
              "    </tr>\n",
              "    <tr>\n",
              "      <th>35991</th>\n",
              "      <td>24</td>\n",
              "      <td>Pekerja Bebas Bukan Perusahan</td>\n",
              "      <td>31606</td>\n",
              "      <td>6</td>\n",
              "      <td>13</td>\n",
              "      <td>Menikah</td>\n",
              "      <td>Spesialis</td>\n",
              "      <td>Perempuan</td>\n",
              "      <td>0.0</td>\n",
              "      <td>0.0</td>\n",
              "      <td>20.0</td>\n",
              "    </tr>\n",
              "    <tr>\n",
              "      <th>35992</th>\n",
              "      <td>47</td>\n",
              "      <td>Wiraswasta</td>\n",
              "      <td>197836</td>\n",
              "      <td>3</td>\n",
              "      <td>9</td>\n",
              "      <td>Menikah</td>\n",
              "      <td>Sales</td>\n",
              "      <td>Laki2</td>\n",
              "      <td>0.0</td>\n",
              "      <td>0.0</td>\n",
              "      <td>45.0</td>\n",
              "    </tr>\n",
              "    <tr>\n",
              "      <th>35993</th>\n",
              "      <td>45</td>\n",
              "      <td>Wiraswasta</td>\n",
              "      <td>243743</td>\n",
              "      <td>6</td>\n",
              "      <td>13</td>\n",
              "      <td>Menikah</td>\n",
              "      <td>Ekesekutif Managerial</td>\n",
              "      <td>Laki2</td>\n",
              "      <td>0.0</td>\n",
              "      <td>0.0</td>\n",
              "      <td>60.0</td>\n",
              "    </tr>\n",
              "  </tbody>\n",
              "</table>\n",
              "<p>35994 rows × 11 columns</p>\n",
              "</div>"
            ],
            "text/plain": [
              "       Umur                  Kelas Pekerja  ...  Kerugian Capital  Jam per Minggu\n",
              "0        21                     Wiraswasta  ...               0.0            35.0\n",
              "1        49                     Wiraswasta  ...               0.0            40.0\n",
              "2        44                     Wiraswasta  ...               0.0            45.0\n",
              "3        24                     Wiraswasta  ...               0.0            35.0\n",
              "4        33                     Wiraswasta  ...               0.0            40.0\n",
              "...     ...                            ...  ...               ...             ...\n",
              "35989    47  Pekerja Bebas Bukan Perusahan  ...               0.0            40.0\n",
              "35990    69       Pekerja Bebas Perusahaan  ...               0.0            40.0\n",
              "35991    24  Pekerja Bebas Bukan Perusahan  ...               0.0            20.0\n",
              "35992    47                     Wiraswasta  ...               0.0            45.0\n",
              "35993    45                     Wiraswasta  ...               0.0            60.0\n",
              "\n",
              "[35994 rows x 11 columns]"
            ]
          },
          "metadata": {
            "tags": []
          },
          "execution_count": 185
        }
      ]
    },
    {
      "cell_type": "markdown",
      "metadata": {
        "id": "dCXOsJWQ4gyE",
        "colab_type": "text"
      },
      "source": [
        "**Membuat dummy supaya data kategori terpisah**"
      ]
    },
    {
      "cell_type": "code",
      "metadata": {
        "id": "oqbEcrXv-FE6",
        "colab_type": "code",
        "colab": {}
      },
      "source": [
        "X_train = pd.get_dummies(X_train)\n",
        "X_test = pd.get_dummies(X_test)"
      ],
      "execution_count": 186,
      "outputs": []
    },
    {
      "cell_type": "code",
      "metadata": {
        "id": "tOnk0xg4prFl",
        "colab_type": "code",
        "colab": {}
      },
      "source": [
        "X_train.drop('Pekerjaan_?', axis=1, inplace=True)\n",
        "X_test.drop('Pekerjaan_?', axis=1, inplace=True)"
      ],
      "execution_count": 187,
      "outputs": []
    },
    {
      "cell_type": "code",
      "metadata": {
        "id": "up6mP_Vq-dJG",
        "colab_type": "code",
        "colab": {}
      },
      "source": [
        "from sklearn.model_selection import GridSearchCV, cross_val_score"
      ],
      "execution_count": 188,
      "outputs": []
    },
    {
      "cell_type": "code",
      "metadata": {
        "id": "iD6YOC7d-QI9",
        "colab_type": "code",
        "colab": {
          "base_uri": "https://localhost:8080/",
          "height": 35
        },
        "outputId": "d3e6e110-76f1-4fc3-a7a6-49afd170ce67"
      },
      "source": [
        "# menggunkan model Decision Tree\n",
        "from sklearn.tree import DecisionTreeClassifier\n",
        "dtc = DecisionTreeClassifier()\n",
        "params = {\n",
        "    'criterion' : [\"gini\", \"entropy\"],\n",
        "    'splitter' : [\"best\", \"random\"]\n",
        "}\n",
        "\n",
        "dtc_gscv = GridSearchCV(dtc, param_grid = params, cv=5, scoring='roc_auc')\n",
        "dtc_score = cross_val_score(dtc_gscv, X_train,y, cv=5 , scoring = 'roc_auc')\n",
        "print(dtc_score.mean())"
      ],
      "execution_count": 189,
      "outputs": [
        {
          "output_type": "stream",
          "text": [
            "0.7486037318596238\n"
          ],
          "name": "stdout"
        }
      ]
    },
    {
      "cell_type": "code",
      "metadata": {
        "id": "3LeB9sQ2Oj9l",
        "colab_type": "code",
        "colab": {
          "base_uri": "https://localhost:8080/",
          "height": 35
        },
        "outputId": "08a5a6bf-745e-4272-b861-23790b90c14e"
      },
      "source": [
        "from sklearn.ensemble import ExtraTreesClassifier\n",
        "\n",
        "etc = ExtraTreesClassifier()\n",
        "params = {\n",
        "    'criterion' : [\"gini\", \"entropy\"],\n",
        "    'n_estimators' : [10,30,50,70,100]\n",
        "}\n",
        "\n",
        "etc_gscv = GridSearchCV(etc, param_grid = params , cv=5, scoring='roc_auc')\n",
        "etc_score = cross_val_score(etc_gscv,X_train, y, cv=5, scoring='roc_auc')\n",
        "print(etc_score.mean())"
      ],
      "execution_count": 190,
      "outputs": [
        {
          "output_type": "stream",
          "text": [
            "0.8779710931567724\n"
          ],
          "name": "stdout"
        }
      ]
    },
    {
      "cell_type": "code",
      "metadata": {
        "id": "wMPtV5JD-VOl",
        "colab_type": "code",
        "colab": {
          "base_uri": "https://localhost:8080/",
          "height": 35
        },
        "outputId": "b4075d1c-b98c-45de-c127-851ac6acb419"
      },
      "source": [
        "# menggunakan model naive bayes classifier\n",
        "from sklearn.naive_bayes import GaussianNB\n",
        "\n",
        "nb = GaussianNB()\n",
        "nb_score = cross_val_score(nb, X_train, y, cv=5, scoring='roc_auc')\n",
        "print(nb_score.mean())"
      ],
      "execution_count": 191,
      "outputs": [
        {
          "output_type": "stream",
          "text": [
            "0.6361332648878008\n"
          ],
          "name": "stdout"
        }
      ]
    },
    {
      "cell_type": "code",
      "metadata": {
        "id": "_EIlh7eF-kRc",
        "colab_type": "code",
        "colab": {
          "base_uri": "https://localhost:8080/",
          "height": 35
        },
        "outputId": "611b5c5a-9c3d-476f-a84c-3ad141ee6ff6"
      },
      "source": [
        "# menggunakan model Random Forest\n",
        "# import model\n",
        "from sklearn.ensemble import RandomForestClassifier\n",
        "\n",
        "rfc = RandomForestClassifier()\n",
        "params = {\n",
        "    'criterion' : [\"gini\", \"entropy\"]\n",
        "}\n",
        "\n",
        "rfc_gscv = GridSearchCV(rfc, param_grid = params, cv=5, scoring='roc_auc')\n",
        "score_rfc = cross_val_score(rfc_gscv, X_train, y, cv=5, scoring='roc_auc')\n",
        "print(score_rfc.mean())"
      ],
      "execution_count": 192,
      "outputs": [
        {
          "output_type": "stream",
          "text": [
            "0.9000094284889864\n"
          ],
          "name": "stdout"
        }
      ]
    },
    {
      "cell_type": "code",
      "metadata": {
        "id": "-oilmAW5EarW",
        "colab_type": "code",
        "colab": {
          "base_uri": "https://localhost:8080/",
          "height": 35
        },
        "outputId": "5c1dcd5a-eff2-4221-cc30-d717c2fa4ec5"
      },
      "source": [
        "from sklearn.linear_model import SGDClassifier\n",
        "\n",
        "sgd = SGDClassifier()\n",
        "params = {\n",
        "    'loss' : ['hinge', 'log', 'modified_huber', 'squared_hinge', 'perceptron']\n",
        "}\n",
        "\n",
        "rgd_gscv = GridSearchCV(sgd, params, scoring = 'roc_auc', cv=5)\n",
        "score_sgd = cross_val_score(rgd_gscv, X_train, y, cv=5, scoring='roc_auc')\n",
        "print(score_sgd.mean())"
      ],
      "execution_count": 193,
      "outputs": [
        {
          "output_type": "stream",
          "text": [
            "0.5401507261052562\n"
          ],
          "name": "stdout"
        }
      ]
    },
    {
      "cell_type": "code",
      "metadata": {
        "colab_type": "code",
        "id": "hWn3IMUlloz6",
        "colab": {
          "base_uri": "https://localhost:8080/",
          "height": 35
        },
        "outputId": "cab68275-b21a-4680-a2cb-d46b3e28e3b8"
      },
      "source": [
        "from sklearn.linear_model import LogisticRegression\n",
        "\n",
        "logreg = LogisticRegression()\n",
        "\n",
        "logreg_score = cross_val_score(logreg, X_train, y, cv=5, scoring='roc_auc')\n",
        "print(logreg_score.mean())"
      ],
      "execution_count": 194,
      "outputs": [
        {
          "output_type": "stream",
          "text": [
            "0.6249877870076457\n"
          ],
          "name": "stdout"
        }
      ]
    },
    {
      "cell_type": "code",
      "metadata": {
        "colab_type": "code",
        "id": "pv8qss9Floz9",
        "colab": {
          "base_uri": "https://localhost:8080/",
          "height": 35
        },
        "outputId": "a5997e64-06c5-4528-bc90-13c0a575a860"
      },
      "source": [
        "from sklearn import svm\n",
        "svc = svm.SVC()\n",
        "svc_score = cross_val_score(svc, X_train, y, cv=5, scoring='roc_auc')\n",
        "print(svc_score.mean())"
      ],
      "execution_count": 195,
      "outputs": [
        {
          "output_type": "stream",
          "text": [
            "0.6323781169890061\n"
          ],
          "name": "stdout"
        }
      ]
    },
    {
      "cell_type": "code",
      "metadata": {
        "colab_type": "code",
        "id": "wB7ksDVWlTWb",
        "colab": {
          "base_uri": "https://localhost:8080/",
          "height": 35
        },
        "outputId": "9b5ea814-17ab-4878-99bf-e3930be9df67"
      },
      "source": [
        "from sklearn.linear_model import LogisticRegression\n",
        "\n",
        "logreg = LogisticRegression()\n",
        "\n",
        "logreg_score = cross_val_score(logreg, X_train, y, cv=5, scoring='roc_auc')\n",
        "print(logreg_score.mean())"
      ],
      "execution_count": 196,
      "outputs": [
        {
          "output_type": "stream",
          "text": [
            "0.6249877870076457\n"
          ],
          "name": "stdout"
        }
      ]
    },
    {
      "cell_type": "code",
      "metadata": {
        "colab_type": "code",
        "id": "DAGJ5voMlTWm",
        "colab": {
          "base_uri": "https://localhost:8080/",
          "height": 35
        },
        "outputId": "dc04ab0c-44e6-433b-b41f-1d60d056190c"
      },
      "source": [
        "from sklearn import svm\n",
        "svc = svm.SVC()\n",
        "svc_score = cross_val_score(svc, X_train, y, cv=5, scoring='roc_auc')\n",
        "print(svc_score.mean())"
      ],
      "execution_count": 197,
      "outputs": [
        {
          "output_type": "stream",
          "text": [
            "0.6323781169890061\n"
          ],
          "name": "stdout"
        }
      ]
    },
    {
      "cell_type": "markdown",
      "metadata": {
        "id": "hukN5EwYbKN0",
        "colab_type": "text"
      },
      "source": [
        "**Menggunakan StandardScaler**"
      ]
    },
    {
      "cell_type": "code",
      "metadata": {
        "id": "avwWxn-y-POX",
        "colab_type": "code",
        "colab": {}
      },
      "source": [
        "from sklearn.preprocessing import StandardScaler\n",
        "\n",
        "scaler = StandardScaler()\n",
        "scaler.fit(X_train)\n",
        "X_train= scaler.fit_transform(X_train)"
      ],
      "execution_count": 198,
      "outputs": []
    },
    {
      "cell_type": "code",
      "metadata": {
        "id": "gsQj24HR-rFN",
        "colab_type": "code",
        "colab": {
          "base_uri": "https://localhost:8080/",
          "height": 35
        },
        "outputId": "32b3a37a-529f-4fc8-90c3-b56860184c94"
      },
      "source": [
        "# menggunakan model KNN\n",
        "import numpy as np\n",
        "from sklearn.neighbors import KNeighborsClassifier\n",
        "\n",
        "knn = KNeighborsClassifier()\n",
        "params = {\n",
        "    'n_neighbors' : np.arange(5,11,2),\n",
        "    'weights' : ['distance']\n",
        "    }\n",
        "\n",
        "knn_gscv = GridSearchCV(knn, param_grid=params , cv=5, scoring='roc_auc') \n",
        "knn_score = cross_val_score(knn_gscv, X_train, y , cv=5, scoring='roc_auc')\n",
        "print(knn_score.mean())"
      ],
      "execution_count": 199,
      "outputs": [
        {
          "output_type": "stream",
          "text": [
            "0.8651241774133384\n"
          ],
          "name": "stdout"
        }
      ]
    },
    {
      "cell_type": "code",
      "metadata": {
        "id": "m8ePix-f_XTn",
        "colab_type": "code",
        "colab": {
          "base_uri": "https://localhost:8080/",
          "height": 35
        },
        "outputId": "58e171d8-1712-4246-9863-120dcc60420f"
      },
      "source": [
        "# menggunkan model Decision Tree\n",
        "from sklearn.tree import DecisionTreeClassifier\n",
        "dtc = DecisionTreeClassifier()\n",
        "params = {\n",
        "    'criterion' : [\"gini\", \"entropy\"],\n",
        "    'splitter' : [\"best\", \"random\"]\n",
        "}\n",
        "\n",
        "dtc_gscv = GridSearchCV(dtc, param_grid = params, cv=5, scoring='roc_auc')\n",
        "dtc_score = cross_val_score(dtc_gscv, X_train,y, cv=5 , scoring = 'roc_auc')\n",
        "print(dtc_score.mean())"
      ],
      "execution_count": 200,
      "outputs": [
        {
          "output_type": "stream",
          "text": [
            "0.7491352168577257\n"
          ],
          "name": "stdout"
        }
      ]
    },
    {
      "cell_type": "code",
      "metadata": {
        "id": "h0-lU4Lj_wQV",
        "colab_type": "code",
        "colab": {
          "base_uri": "https://localhost:8080/",
          "height": 35
        },
        "outputId": "dd1beaec-2f03-4da5-f855-a6414887d994"
      },
      "source": [
        "# menggunakan model naive bayes classifier\n",
        "from sklearn.naive_bayes import GaussianNB\n",
        "\n",
        "nb = GaussianNB()\n",
        "nb_score = cross_val_score(nb, X_train, y, cv=5, scoring='roc_auc')\n",
        "print(nb_score.mean())"
      ],
      "execution_count": 201,
      "outputs": [
        {
          "output_type": "stream",
          "text": [
            "0.8652971538260138\n"
          ],
          "name": "stdout"
        }
      ]
    },
    {
      "cell_type": "code",
      "metadata": {
        "id": "cfnevODI_0wi",
        "colab_type": "code",
        "colab": {
          "base_uri": "https://localhost:8080/",
          "height": 35
        },
        "outputId": "86dfd9da-4740-41ef-80c5-5da1eaf45376"
      },
      "source": [
        "# menggunakan model Random Forest\n",
        "# import model\n",
        "from sklearn.ensemble import RandomForestClassifier\n",
        "\n",
        "rfc = RandomForestClassifier()\n",
        "params = {\n",
        "    'criterion' : [\"gini\", \"entropy\"]\n",
        "}\n",
        "\n",
        "rfc_gscv = GridSearchCV(rfc, param_grid = params, cv=5, scoring='roc_auc')\n",
        "score_rfc = cross_val_score(rfc_gscv, X_train, y, cv=5, scoring='roc_auc')\n",
        "print(score_rfc.mean())"
      ],
      "execution_count": 202,
      "outputs": [
        {
          "output_type": "stream",
          "text": [
            "0.9006757862411454\n"
          ],
          "name": "stdout"
        }
      ]
    },
    {
      "cell_type": "code",
      "metadata": {
        "id": "tiaEKAfm_4nc",
        "colab_type": "code",
        "colab": {
          "base_uri": "https://localhost:8080/",
          "height": 35
        },
        "outputId": "2d546ef6-239a-4b20-e93e-c6b68134d236"
      },
      "source": [
        "#jossss\n",
        "#Linear classifiers (SVM, logistic regression, etc.) with SGD training.\n",
        "from sklearn.linear_model import SGDClassifier\n",
        "\n",
        "sgd = SGDClassifier()\n",
        "params = {\n",
        "    'loss' : ['hinge', 'log', 'modified_huber', 'squared_hinge', 'perceptron']\n",
        "}\n",
        "\n",
        "rgd_gscv = GridSearchCV(sgd, params, scoring = 'roc_auc', cv=5)\n",
        "score_sgd = cross_val_score(rgd_gscv, X_train, y, cv=5, scoring='roc_auc')\n",
        "print(score_sgd.mean())"
      ],
      "execution_count": 203,
      "outputs": [
        {
          "output_type": "stream",
          "text": [
            "0.8970918819226679\n"
          ],
          "name": "stdout"
        }
      ]
    },
    {
      "cell_type": "code",
      "metadata": {
        "id": "7svDxNjRbU85",
        "colab_type": "code",
        "colab": {
          "base_uri": "https://localhost:8080/",
          "height": 35
        },
        "outputId": "6b4378a3-0e32-43b9-8bcd-91281dd6ae52"
      },
      "source": [
        "#GradientBoostingClassifier\n",
        "from sklearn.ensemble import GradientBoostingClassifier\n",
        "\n",
        "gbc = GradientBoostingClassifier()\n",
        "params = {\n",
        "    'loss' : ['deviance'],\n",
        "    'n_estimators' : [150],\n",
        "    'learning_rate' : [0.2]\n",
        "}\n",
        "\n",
        "gbc_gscv = GridSearchCV(gbc, params, cv=5, scoring= 'roc_auc')\n",
        "gbc_score = cross_val_score(gbc_gscv, X_train, y , cv=5, scoring='roc_auc')\n",
        "print(gbc_score.mean())"
      ],
      "execution_count": 204,
      "outputs": [
        {
          "output_type": "stream",
          "text": [
            "0.9262280656783037\n"
          ],
          "name": "stdout"
        }
      ]
    },
    {
      "cell_type": "code",
      "metadata": {
        "id": "-_hfRCb9U5Vn",
        "colab_type": "code",
        "colab": {
          "base_uri": "https://localhost:8080/",
          "height": 35
        },
        "outputId": "bdf9882f-7559-4e1e-be9a-613875ac738b"
      },
      "source": [
        "# ExtraTreesClassifier\n",
        "from sklearn.ensemble import ExtraTreesClassifier\n",
        "\n",
        "etc = ExtraTreesClassifier()\n",
        "params = {\n",
        "    'criterion' : [\"gini\", \"entropy\"],\n",
        "    'n_estimators' : [10,30,50,70,100]\n",
        "}\n",
        "\n",
        "etc_gscv = GridSearchCV(etc, param_grid = params , cv=5, scoring='roc_auc')\n",
        "etc_score = cross_val_score(etc_gscv,X_train, y, cv=5, scoring='roc_auc')\n",
        "print(etc_score.mean())"
      ],
      "execution_count": 205,
      "outputs": [
        {
          "output_type": "stream",
          "text": [
            "0.8775993093180668\n"
          ],
          "name": "stdout"
        }
      ]
    },
    {
      "cell_type": "code",
      "metadata": {
        "id": "FtkMbXtqAO0K",
        "colab_type": "code",
        "colab": {
          "base_uri": "https://localhost:8080/",
          "height": 35
        },
        "outputId": "5d1208d3-5ac5-4eee-f04d-1929ed812dfc"
      },
      "source": [
        "from sklearn.linear_model import LogisticRegression\n",
        "\n",
        "logreg = LogisticRegression()\n",
        "params = {\n",
        "    'C' : [1.3000000000000003],\n",
        "    'class_weight' : ['balanced'],\n",
        "    'random_state' : [84],\n",
        "    'solver' : ['sag'],\n",
        "}\n",
        "logreg_gscv = GridSearchCV(logreg, params, scoring = 'roc_auc', cv=5)\n",
        "\n",
        "logreg_gscv_score = cross_val_score(logreg_gscv, X_train, y, cv=5, scoring='roc_auc')\n",
        "print(logreg_gscv_score.mean())"
      ],
      "execution_count": 206,
      "outputs": [
        {
          "output_type": "stream",
          "text": [
            "0.9035223927772531\n"
          ],
          "name": "stdout"
        }
      ]
    },
    {
      "cell_type": "code",
      "metadata": {
        "id": "UbSs_cI7hN4N",
        "colab_type": "code",
        "colab": {
          "base_uri": "https://localhost:8080/",
          "height": 35
        },
        "outputId": "164f03e7-18c0-440e-da81-9107fff3fb68"
      },
      "source": [
        "from sklearn import svm\n",
        "svc = svm.SVC(kernel='linear')\n",
        "svc_score = cross_val_score(svc, X_train, y, cv=5, scoring='roc_auc')\n",
        "print(svc_score.mean())"
      ],
      "execution_count": 207,
      "outputs": [
        {
          "output_type": "stream",
          "text": [
            "0.9012875989812752\n"
          ],
          "name": "stdout"
        }
      ]
    },
    {
      "cell_type": "code",
      "metadata": {
        "id": "C3cUqJEOK7F9",
        "colab_type": "code",
        "colab": {
          "base_uri": "https://localhost:8080/",
          "height": 35
        },
        "outputId": "aa3c488c-f630-484a-8bde-9975eb1a16ad"
      },
      "source": [
        "from sklearn.linear_model import LogisticRegressionCV\n",
        "logregCV = LogisticRegressionCV()\n",
        "logregCV_score = cross_val_score(logregCV, X_train, y, cv=5, scoring='roc_auc')\n",
        "print(logregCV_score.mean())"
      ],
      "execution_count": 208,
      "outputs": [
        {
          "output_type": "stream",
          "text": [
            "0.9034607251189403\n"
          ],
          "name": "stdout"
        }
      ]
    },
    {
      "cell_type": "markdown",
      "metadata": {
        "id": "Xrd_6cqWhL81",
        "colab_type": "text"
      },
      "source": [
        "**Testing Data**"
      ]
    },
    {
      "cell_type": "code",
      "metadata": {
        "id": "aq9mKJ7YBrIO",
        "colab_type": "code",
        "colab": {}
      },
      "source": [
        "# standardscaler\n",
        "scaler.fit(X_test)\n",
        "X_test= scaler.fit_transform(X_test)"
      ],
      "execution_count": 209,
      "outputs": []
    },
    {
      "cell_type": "code",
      "metadata": {
        "id": "iTByc9g1XP6C",
        "colab_type": "code",
        "colab": {}
      },
      "source": [
        "gbc_gscv.fit(X_train, y)\n",
        "predict = gbc_gscv.predict(X_test)"
      ],
      "execution_count": 210,
      "outputs": []
    },
    {
      "cell_type": "markdown",
      "metadata": {
        "id": "8WTTI05UW47S",
        "colab_type": "text"
      },
      "source": [
        "**Menggabungkan data hasil prediksi dengan test.csv lalu Menyimpan Data tersebut**"
      ]
    },
    {
      "cell_type": "code",
      "metadata": {
        "id": "D8rlTu0mB9_n",
        "colab_type": "code",
        "colab": {}
      },
      "source": [
        "submission = pd.DataFrame({\n",
        "    'id' : df_test['id'],\n",
        "    'Gaji' : predict\n",
        "})\n",
        "# menyimpan hasil prediksi kedalam csv\n",
        "submission.to_csv('mohammadkhoirulroziq@gmail.com.csv', index=False)"
      ],
      "execution_count": 211,
      "outputs": []
    },
    {
      "cell_type": "code",
      "metadata": {
        "id": "5XEV_4vIhRPb",
        "colab_type": "code",
        "colab": {
          "base_uri": "https://localhost:8080/",
          "height": 254
        },
        "outputId": "82031b73-fa36-4d56-baba-499651f51adc"
      },
      "source": [
        "X_test"
      ],
      "execution_count": 213,
      "outputs": [
        {
          "output_type": "execute_result",
          "data": {
            "text/plain": [
              "array([[-0.61293213, -0.84797598,  0.41180931, ..., -0.01768135,\n",
              "        -1.40782882,  1.40782882],\n",
              "       [-0.75805233,  0.11473468, -0.85597695, ..., -0.01768135,\n",
              "         0.71031363, -0.71031363],\n",
              "       [-0.32269174,  0.09338392,  0.41180931, ..., -0.01768135,\n",
              "         0.71031363, -0.71031363],\n",
              "       ...,\n",
              "       [-1.33853312,  0.45754031,  0.41180931, ..., -0.01768135,\n",
              "        -1.40782882,  1.40782882],\n",
              "       [ 0.18522895,  0.55484039, -0.85597695, ..., -0.01768135,\n",
              "        -1.40782882,  1.40782882],\n",
              "       [-0.32269174, -1.55089714, -0.85597695, ..., -0.01768135,\n",
              "         0.71031363, -0.71031363]])"
            ]
          },
          "metadata": {
            "tags": []
          },
          "execution_count": 213
        }
      ]
    },
    {
      "cell_type": "code",
      "metadata": {
        "id": "c6c5Enn8icoC",
        "colab_type": "code",
        "colab": {}
      },
      "source": [
        ""
      ],
      "execution_count": null,
      "outputs": []
    }
  ]
}